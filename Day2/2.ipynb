{
 "cells": [
  {
   "cell_type": "code",
   "execution_count": 1,
   "metadata": {},
   "outputs": [
    {
     "name": "stdout",
     "output_type": "stream",
     "text": [
      "Total score: 12586.\n"
     ]
    }
   ],
   "source": [
    "game = {\n",
    "    \"A\": (\"Z\", \"Y\"),\n",
    "    \"B\": (\"X\", \"Z\"),\n",
    "    \"C\": (\"Y\", \"X\"),\n",
    "    \"X\": 1,\n",
    "    \"Y\": 2,\n",
    "    \"Z\": 3\n",
    "} # A = Z + Y, B = X + Z, C = Y + X, X = 1, Y = 2, Z = 3\n",
    "t_scr = 0 # total score\n",
    "with open(\"input.txt\", \"r\") as infile:  \n",
    "    for elf, player in [line.strip().split(\" \") for line in infile.readlines()]: # for each line in the input file\n",
    "        w_multi = 2 if game[elf][1] == player else (0 if game[elf][0] == player else 1) # calculate the winning multiplier (2 if the player wins, 0 if the player loses, 1 if it's a tie)\n",
    "        t_scr += (3 * w_multi) + game[player]   # add the score to the total score\n",
    "print(f\"Total score: {t_scr}\")"
   ]
  },
  {
   "cell_type": "code",
   "execution_count": 2,
   "metadata": {},
   "outputs": [
    {
     "name": "stdout",
     "output_type": "stream",
     "text": [
      "Total score: 13193\n"
     ]
    }
   ],
   "source": [
    "game2 = {\n",
    "    \"A\": (\"C\", \"B\", 1),\n",
    "    \"B\": (\"A\", \"C\", 2),\n",
    "    \"C\": (\"B\", \"A\", 3)\n",
    "}   # A = C + B, B = A + C, C = B + A, X = 1, Y = 2, Z = 3\n",
    "\n",
    "t_scr = 0   # total score\n",
    "with open(\"input.txt\", \"r\") as infile:  \n",
    "    for elf, player in [line.strip().split(\" \") for line in infile.readlines()]:    # for each line in the input file\n",
    "        match player:   \n",
    "            case \"X\":   # if the player is X\n",
    "                t_scr += game2[game2[elf][0]][2]    # add the score to the total score (the score of the player that the elf loses to)\n",
    "            case \"Y\":   # if the player is Y\n",
    "                t_scr += game2[elf][2] + 3  # add the score to the total score (the score of the elf + 3)\n",
    "            case \"Z\":   # if the player is Z\n",
    "                t_scr += game2[game2[elf][1]][2] + 6    # add the score to the total score (the score of the player that the elf wins to + 6)\n",
    "\n",
    "print(f\"Total score: {t_scr}\")"
   ]
  }
 ],
 "metadata": {
  "kernelspec": {
   "display_name": "Python 3.10.6 64-bit",
   "language": "python",
   "name": "python3"
  },
  "language_info": {
   "codemirror_mode": {
    "name": "ipython",
    "version": 3
   },
   "file_extension": ".py",
   "mimetype": "text/x-python",
   "name": "python",
   "nbconvert_exporter": "python",
   "pygments_lexer": "ipython3",
   "version": "3.10.6"
  },
  "orig_nbformat": 4,
  "vscode": {
   "interpreter": {
    "hash": "369f2c481f4da34e4445cda3fffd2e751bd1c4d706f27375911949ba6bb62e1c"
   }
  }
 },
 "nbformat": 4,
 "nbformat_minor": 2
}
